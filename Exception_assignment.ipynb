{
 "cells": [
  {
   "cell_type": "markdown",
   "id": "7a50bcb3-3b10-4a86-9202-51bf9fe398bc",
   "metadata": {},
   "source": [
    "## Q1.What is an Exception in python? Write the difference between Exceptions and syntax errors."
   ]
  },
  {
   "cell_type": "markdown",
   "id": "f2817d1a-be6f-4d04-b606-0f1a7fd15367",
   "metadata": {},
   "source": [
    "Ans:- In Python, an exception is an event that occurs during the execution of a program, disrupting the normal flow of code. It is a mechanism used to handle errors and exceptional situations gracefully. When an exception occurs, it typically generates an error message and stops the program's execution unless it's caught and handled properly.\n",
    "\n",
    "Exceptions can arise due to various reasons, such as invalid input, file not found, network issues, division by zero, or accessing an undefined variable. Python provides a way to catch and handle these exceptions using try-except blocks.\n",
    "\n",
    "On the other hand, syntax errors are different from exceptions. Syntax errors occur when the code violates the rules of the Python language grammar. They usually happen when there is a mistake in the syntax or structure of the code, such as missing colons, parentheses, or incorrect indentation. Syntax errors prevent the program from running altogether because Python cannot interpret the code correctly.\n",
    "\n",
    "Exceptions: Occur during the execution of a program when an exceptional condition arises. They disrupt the normal flow of code. Examples include division by zero, file not found, or invalid input.\n",
    "\n",
    "Syntax Errors: Occur due to mistakes in the code's syntax or structure, violating the rules of the Python language grammar. These errors prevent the program from running altogether."
   ]
  },
  {
   "cell_type": "markdown",
   "id": "db9bfbb3-38f9-4cea-8bf0-fd9bdd9d7b34",
   "metadata": {},
   "source": [
    "## Q2. What happens when an exception is not handled in python? Explain with an example"
   ]
  },
  {
   "cell_type": "markdown",
   "id": "b4eabefc-5052-4392-8f12-d34911f7e63d",
   "metadata": {},
   "source": [
    "Ans:- When an exception is not handled in Python, it leads to what is known as an unhandled exception. When an unhandled exception occurs, the program execution is abruptly halted, and Python displays an error message traceback that provides information about the exception and where it occurred in the code.\n"
   ]
  },
  {
   "cell_type": "code",
   "execution_count": 1,
   "id": "f7f7af74-1b2f-4500-8395-40742d8833f1",
   "metadata": {},
   "outputs": [
    {
     "ename": "ZeroDivisionError",
     "evalue": "division by zero",
     "output_type": "error",
     "traceback": [
      "\u001b[0;31m---------------------------------------------------------------------------\u001b[0m",
      "\u001b[0;31mZeroDivisionError\u001b[0m                         Traceback (most recent call last)",
      "Cell \u001b[0;32mIn[1], line 8\u001b[0m\n\u001b[1;32m      5\u001b[0m num1 \u001b[38;5;241m=\u001b[39m \u001b[38;5;241m10\u001b[39m\n\u001b[1;32m      6\u001b[0m num2 \u001b[38;5;241m=\u001b[39m \u001b[38;5;241m0\u001b[39m\n\u001b[0;32m----> 8\u001b[0m result \u001b[38;5;241m=\u001b[39m \u001b[43mdivide\u001b[49m\u001b[43m(\u001b[49m\u001b[43mnum1\u001b[49m\u001b[43m,\u001b[49m\u001b[43m \u001b[49m\u001b[43mnum2\u001b[49m\u001b[43m)\u001b[49m\n\u001b[1;32m      9\u001b[0m \u001b[38;5;28mprint\u001b[39m(result)\n",
      "Cell \u001b[0;32mIn[1], line 3\u001b[0m, in \u001b[0;36mdivide\u001b[0;34m(a, b)\u001b[0m\n\u001b[1;32m      2\u001b[0m \u001b[38;5;28;01mdef\u001b[39;00m \u001b[38;5;21mdivide\u001b[39m(a, b):\n\u001b[0;32m----> 3\u001b[0m     \u001b[38;5;28;01mreturn\u001b[39;00m \u001b[43ma\u001b[49m\u001b[43m \u001b[49m\u001b[38;5;241;43m/\u001b[39;49m\u001b[43m \u001b[49m\u001b[43mb\u001b[49m\n",
      "\u001b[0;31mZeroDivisionError\u001b[0m: division by zero"
     ]
    }
   ],
   "source": [
    "# Here's an example to illustrate what happens when an exception is not handled:\n",
    "def divide(a, b):\n",
    "    return a / b\n",
    "\n",
    "num1 = 10\n",
    "num2 = 0\n",
    "\n",
    "result = divide(num1, num2)\n",
    "print(result)"
   ]
  },
  {
   "cell_type": "markdown",
   "id": "75fde761-2a2c-47a2-81e9-46fce596e254",
   "metadata": {},
   "source": [
    "## Q3. Which Python statements are used to catch and handle exceptions? Explain with an example"
   ]
  },
  {
   "cell_type": "markdown",
   "id": "8b175533-8250-47b6-aea6-664db41e5b56",
   "metadata": {},
   "source": [
    "Ans:- In Python, you can use the try-except statements to catch and handle exceptions. The try block contains the code that may raise an exception, and the except block specifies the code to be executed if a specific exception occurs. Here's an example to demonstrate the usage of try-except statements:"
   ]
  },
  {
   "cell_type": "code",
   "execution_count": 2,
   "id": "417741b3-e081-4878-9546-ff24b66a0ba9",
   "metadata": {},
   "outputs": [
    {
     "name": "stdout",
     "output_type": "stream",
     "text": [
      "The result of division is: 5.0\n",
      "Error: Division by zero is not allowed.\n"
     ]
    }
   ],
   "source": [
    "def divide(a, b):\n",
    "    try:\n",
    "        result = a / b\n",
    "        print(\"The result of division is:\", result)\n",
    "    except ZeroDivisionError:\n",
    "        print(\"Error: Division by zero is not allowed.\")\n",
    "\n",
    "divide(10, 2)   # Normal division\n",
    "divide(10, 0)   # Division by zero\n"
   ]
  },
  {
   "cell_type": "markdown",
   "id": "95e76ff7-6aab-46d0-8412-14a7782e805c",
   "metadata": {},
   "source": [
    "## Q5. What are Custom Exceptions in python? Why do we need Custom Exceptions? Explain with an example"
   ]
  },
  {
   "cell_type": "markdown",
   "id": "511cf314-f375-47ba-8b1c-11e44e12a0a6",
   "metadata": {},
   "source": [
    "Ans:- Custom exceptions in Python are user-defined exceptions that extend the built-in exception classes provided by Python. They allow programmers to define their own specific exception types to handle unique error conditions in their code. Custom exceptions are created by subclassing an existing exception class or the base Exception class.\n",
    "\n",
    "There are several reasons why we may need custom exceptions:\n",
    "\n",
    "1.Specific Error Handling: Custom exceptions allow us to define and handle specific errors that are relevant to our codebase. By creating custom exception classes, we can provide more meaningful and descriptive error messages that help in identifying and resolving issues.\n",
    "\n",
    "2.Modularity and Code Organization: By using custom exceptions, we can modularize our code and handle different types of errors in a structured manner. It enhances code readability, maintainability, and separation of concerns.\n",
    "\n",
    "3.Exception Hierarchy: Custom exceptions can be organized into a hierarchy, with base exceptions and specialized exceptions. This hierarchy enables catching exceptions at different levels and handling them accordingly."
   ]
  },
  {
   "cell_type": "code",
   "execution_count": 3,
   "id": "76b70d5e-541d-482f-b9d0-1bd6277ab52c",
   "metadata": {},
   "outputs": [
    {
     "name": "stdout",
     "output_type": "stream",
     "text": [
      "Insufficient funds in the account.\n"
     ]
    }
   ],
   "source": [
    "class InsufficientFundsError(Exception):\n",
    "    pass\n",
    "\n",
    "class BankAccount:\n",
    "    def __init__(self, balance):\n",
    "        self.balance = balance\n",
    "\n",
    "    def withdraw(self, amount):\n",
    "        if amount > self.balance:\n",
    "            raise InsufficientFundsError(\"Insufficient funds in the account.\")\n",
    "        else:\n",
    "            self.balance -= amount\n",
    "            print(\"Withdrawal successful. Remaining balance:\", self.balance)\n",
    "\n",
    "try:\n",
    "    account = BankAccount(100)\n",
    "    account.withdraw(150)\n",
    "except InsufficientFundsError as e:\n",
    "    print(e)\n"
   ]
  },
  {
   "cell_type": "markdown",
   "id": "7601d160-981b-4b73-a824-c95a4703011c",
   "metadata": {},
   "source": [
    "## Q6. Create custom exception class. Use this class to handle an exception.\n",
    "\n"
   ]
  },
  {
   "cell_type": "code",
   "execution_count": 4,
   "id": "adf11e43-d4a5-4944-b115-a4ae07ee5f7f",
   "metadata": {},
   "outputs": [
    {
     "name": "stdout",
     "output_type": "stream",
     "text": [
      "The result of division is: 5.0\n",
      "CustomException caught: Cannot divide by zero.\n"
     ]
    }
   ],
   "source": [
    "class CustomException(Exception):\n",
    "    def __init__(self, message):\n",
    "        self.message = message\n",
    "\n",
    "def divide(a, b):\n",
    "    try:\n",
    "        if b == 0:\n",
    "            raise CustomException(\"Cannot divide by zero.\")\n",
    "        result = a / b\n",
    "        print(\"The result of division is:\", result)\n",
    "    except CustomException as e:\n",
    "        print(\"CustomException caught:\", e.message)\n",
    "\n",
    "divide(10, 2)   # Normal division\n",
    "divide(10, 0)   # Division by zero\n"
   ]
  },
  {
   "cell_type": "markdown",
   "id": "64e4a042-71c6-4f97-b393-f982f19c8e3d",
   "metadata": {},
   "source": [
    "## Q4. Explain with an example:\n",
    "\n",
    "1. try and else 2.finally 3.raise"
   ]
  },
  {
   "cell_type": "markdown",
   "id": "1c089646-2f06-42a3-9229-6aff8af25fc4",
   "metadata": {},
   "source": [
    "Ans: \n",
    "1.try and else:\n",
    "The try block is used to enclose the code that may raise an exception. The else block is optional and follows the try block. It executes only if no exception occurs within the try block. The purpose of the else block is to specify the code that should run when no exceptions are raised."
   ]
  },
  {
   "cell_type": "code",
   "execution_count": 5,
   "id": "4c28d970-2484-42b2-81ab-9676c5a2b4a8",
   "metadata": {},
   "outputs": [
    {
     "name": "stdout",
     "output_type": "stream",
     "text": [
      "The result of division is: 2.0\n"
     ]
    }
   ],
   "source": [
    "try:\n",
    "    num1 = 10\n",
    "    num2 = 5\n",
    "    result = num1 / num2\n",
    "except ZeroDivisionError:\n",
    "    print(\"Error: Division by zero!\")\n",
    "else:\n",
    "    print(\"The result of division is:\", result)\n"
   ]
  },
  {
   "cell_type": "markdown",
   "id": "121626b0-e537-4d14-8b0e-daffd9fcab75",
   "metadata": {},
   "source": [
    "2.finally:\n",
    "The finally block is optional and follows the try and except blocks. It is executed regardless of whether an exception occurs or not. The purpose of the finally block is to specify the code that should always run, whether an exception is raised or not. It is typically used for tasks that need to be performed irrespective of exceptions, such as releasing resources."
   ]
  },
  {
   "cell_type": "code",
   "execution_count": 17,
   "id": "cf37493c-b981-4d6d-8414-c551a9a2e5a3",
   "metadata": {},
   "outputs": [
    {
     "name": "stdout",
     "output_type": "stream",
     "text": [
      "Something went wrong\n",
      "The try...except block is finished\n"
     ]
    }
   ],
   "source": [
    "try:\n",
    "  x > 3\n",
    "except:\n",
    "  print(\"Something went wrong\")\n",
    "else:\n",
    "  print(\"Nothing went wrong\")\n",
    "finally:\n",
    "  print(\"The try...except block is finished\")"
   ]
  },
  {
   "cell_type": "code",
   "execution_count": null,
   "id": "dfe25192-9a56-4652-bd08-04ef6bb3cb45",
   "metadata": {},
   "outputs": [],
   "source": [
    "raise:\n",
    "The raise statement is used to explicitly raise an exception in Python. It allows programmers to create and raise their own exceptions or propagate built-in exceptions to handle exceptional situations."
   ]
  },
  {
   "cell_type": "code",
   "execution_count": null,
   "id": "50b801b3-fc1d-4a31-8d15-1a108ee701f8",
   "metadata": {},
   "outputs": [],
   "source": []
  }
 ],
 "metadata": {
  "kernelspec": {
   "display_name": "Python 3 (ipykernel)",
   "language": "python",
   "name": "python3"
  },
  "language_info": {
   "codemirror_mode": {
    "name": "ipython",
    "version": 3
   },
   "file_extension": ".py",
   "mimetype": "text/x-python",
   "name": "python",
   "nbconvert_exporter": "python",
   "pygments_lexer": "ipython3",
   "version": "3.10.8"
  }
 },
 "nbformat": 4,
 "nbformat_minor": 5
}
