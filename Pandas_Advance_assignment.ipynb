{
 "cells": [
  {
   "cell_type": "markdown",
   "id": "937b9ba3-781a-417d-a841-eb2eda929459",
   "metadata": {},
   "source": [
    "### Q1. List any five functions of the pandas library with execution."
   ]
  },
  {
   "cell_type": "markdown",
   "id": "6d5cc6a1-52af-42e4-b25a-fa4d927797a3",
   "metadata": {},
   "source": [
    "1.read_csv(): This function is used to read a CSV (Comma Separated Values) file into a Pandas DataFrame.\n",
    "2.head(): This function is used to display the first n rows of a DataFrame. The default value of n is 5.\n",
    "3.describe(): This function is used to generate descriptive statistics of a DataFrame. \n",
    "4.groupby(): This function is used to group rows of a DataFrame based on a given column.\n",
    "5.dropna(): This function is used to remove rows with missing values from a DataFrame."
   ]
  },
  {
   "cell_type": "markdown",
   "id": "4cfb8b11-4eec-4a98-9271-31899e6c6692",
   "metadata": {},
   "source": [
    "### Q2. Given a Pandas DataFrame df with columns 'A', 'B', and 'C', write a Python function to re-index the DataFrame with a new index that starts from 1 and increments by 2 for each row."
   ]
  },
  {
   "cell_type": "code",
   "execution_count": 1,
   "id": "6c3fd119-5bfc-4faa-9290-8e900acce087",
   "metadata": {},
   "outputs": [],
   "source": [
    "import pandas as pd\n",
    "\n",
    "def reindex_df(df):\n",
    "    # Reset the index of the DataFrame\n",
    "    df.reset_index(drop=True, inplace=True)\n",
    "    \n",
    "    # Create a new index that starts from 1 and increments by 2 for each row\n",
    "    new_index = pd.RangeIndex(start=1, stop=len(df)*2, step=2)\n",
    "    \n",
    "    # Assign the new index to the DataFrame\n",
    "    df.index = new_index\n",
    "    \n",
    "    return df\n"
   ]
  },
  {
   "cell_type": "code",
   "execution_count": 2,
   "id": "c9e413be-1f18-4ebe-a983-221030e5dcd6",
   "metadata": {},
   "outputs": [
    {
     "name": "stdout",
     "output_type": "stream",
     "text": [
      "   A  B  C\n",
      "1  1  4  7\n",
      "3  2  5  8\n",
      "5  3  6  9\n"
     ]
    }
   ],
   "source": [
    "# Example DataFrame\n",
    "df = pd.DataFrame({'A': [1, 2, 3], 'B': [4, 5, 6], 'C': [7, 8, 9]})\n",
    "\n",
    "# Call the reindex_df() function\n",
    "df = reindex_df(df)\n",
    "\n",
    "# Print the result\n",
    "print(df)\n"
   ]
  },
  {
   "cell_type": "markdown",
   "id": "f1a3b47d-3eec-46c6-b24e-3945a7d520f7",
   "metadata": {},
   "source": [
    "### Q3.You have a Pandas DataFrame df with a column named 'Values'. Write a Python function that iterates over the DataFrame and calculates the sum of the first three values in the 'Values' column. The function should print the sum to the console.\n",
    "\n",
    "For example, if the 'Values' column of df contains the values [10, 20, 30, 40, 50], your function should\n",
    "calculate and print the sum of the first three values, which is 60."
   ]
  },
  {
   "cell_type": "code",
   "execution_count": 5,
   "id": "a1ce0e01-0d34-43a6-9482-309758e1f86e",
   "metadata": {},
   "outputs": [],
   "source": [
    "def sum_first_three_values(df1):\n",
    "    first_three_values = df1['Values'][:3]\n",
    "    sum_of_first_three = sum(first_three_values)\n",
    "    print(\"Sum of the first three values:\", sum_of_first_three)"
   ]
  },
  {
   "cell_type": "code",
   "execution_count": 6,
   "id": "24d43ab0-07f6-4470-b8f3-8e58dd2892f1",
   "metadata": {},
   "outputs": [
    {
     "name": "stdout",
     "output_type": "stream",
     "text": [
      "Sum of the first three values: 60\n"
     ]
    }
   ],
   "source": [
    "df1 = pd.DataFrame({'Values': [10, 20, 30, 40, 50]})\n",
    "sum_first_three_values(df1)\n"
   ]
  },
  {
   "cell_type": "markdown",
   "id": "c7ca4e14-a935-4ca9-9514-426e100c844b",
   "metadata": {},
   "source": [
    "### Q4. Given a Pandas DataFrame df with a column 'Text', write a Python function to create a new column 'Word_Count' that contains the number of words in each row of the 'Text' column."
   ]
  },
  {
   "cell_type": "code",
   "execution_count": 7,
   "id": "19374515-2cac-4c1b-9656-16e1874a2e08",
   "metadata": {},
   "outputs": [],
   "source": [
    "def count_words(df, column_name):\n",
    "    words = df[column_name].str.split()\n",
    "    df['Word_Count'] = words.str.len()\n",
    "    return df"
   ]
  },
  {
   "cell_type": "code",
   "execution_count": 8,
   "id": "512ecc5d-6687-48d3-989b-30d3355717fd",
   "metadata": {},
   "outputs": [
    {
     "name": "stdout",
     "output_type": "stream",
     "text": [
      "                                Text  Word_Count\n",
      "0                This is a sentence.           4\n",
      "1  Another sentence with more words.           5\n"
     ]
    }
   ],
   "source": [
    "df = pd.DataFrame({'Text': ['This is a sentence.', 'Another sentence with more words.']})\n",
    "df = count_words(df, 'Text')\n",
    "print(df)"
   ]
  },
  {
   "cell_type": "markdown",
   "id": "1ba96ac2-9d55-4cec-bea1-d549422c9ad1",
   "metadata": {},
   "source": [
    "### Q5. How are DataFrame.size() and DataFrame.shape() different?"
   ]
  },
  {
   "cell_type": "markdown",
   "id": "c7cf5e90-95d2-4553-97d4-e05c7e4ca135",
   "metadata": {},
   "source": [
    "Ans:DataFrame.size() and DataFrame.shape() are two methods of the Pandas DataFrame class that return information about the size of a DataFrame, but they differ in what information they provide.\n",
    "\n",
    "DataFrame.size() returns the total number of elements in the DataFrame, which is the product of the number of rows and columns. For example, if a DataFrame has 3 rows and 4 columns, DataFrame.size() would return 12.\n",
    "\n",
    "On the other hand, DataFrame.shape() returns a tuple containing the number of rows and columns in the DataFrame. For example, if a DataFrame has 3 rows and 4 columns, DataFrame.shape() would return (3, 4)."
   ]
  },
  {
   "cell_type": "markdown",
   "id": "d5b2dc1b-68aa-46dc-be6d-84b6a7901f3c",
   "metadata": {},
   "source": [
    "### Q6. Which function of pandas do we use to read an excel file?"
   ]
  },
  {
   "cell_type": "code",
   "execution_count": null,
   "id": "f743a9c7-84a3-4b8b-ab5e-597fd2e09548",
   "metadata": {},
   "outputs": [],
   "source": [
    "#Ans: \n",
    "pd.read_excel('data.xlsx')"
   ]
  },
  {
   "cell_type": "markdown",
   "id": "cc100a86-7976-47af-b273-dbe7671b1895",
   "metadata": {},
   "source": [
    "### Q7.You have a Pandas DataFrame df that contains a column named 'Email' that contains email addresses in the format 'username@domain.com'. Write a Python function that creates a new column'Username' in df that contains only the username part of each email address.\n",
    "The username is the part of the email address that appears before the '@' symbol. For example, if the email address is 'john.doe@example.com', the 'Username' column should contain 'john.doe'. Your function should extract the username from each email address and store it in the new 'Username'column."
   ]
  },
  {
   "cell_type": "code",
   "execution_count": null,
   "id": "7294fca7-d8e5-48c4-b9b7-6dcbfea298bf",
   "metadata": {},
   "outputs": [],
   "source": []
  },
  {
   "cell_type": "markdown",
   "id": "8f2eca13-aff2-4752-9a95-c305a81a81f4",
   "metadata": {},
   "source": [
    "### Q9. Given a Pandas DataFrame df with a column 'Values', write a Python function to calculate the mean,median, and standard deviation of the values in the 'Values' column."
   ]
  },
  {
   "cell_type": "code",
   "execution_count": 10,
   "id": "45a07373-64b0-4342-931f-1e4329456c5f",
   "metadata": {},
   "outputs": [
    {
     "name": "stdout",
     "output_type": "stream",
     "text": [
      "Mean : 5.5\n",
      "Median : 5.5\n",
      "Mean : 3.0276503540974917\n"
     ]
    }
   ],
   "source": [
    "def cal(df):\n",
    "    mean=df['values'].mean()\n",
    "    median=df['values'].median()\n",
    "    std=df['values'].std()\n",
    "    \n",
    "    print('Mean :',mean)    \n",
    "    print('Median :',median)\n",
    "    print('Mean :',std)\n",
    "    \n",
    "df=pd.DataFrame({'values': [1,2,3,4,5,6,7,8,9,10]})\n",
    "cal(df)"
   ]
  },
  {
   "cell_type": "code",
   "execution_count": null,
   "id": "3ba8c978-2708-4b69-a2a6-923dd9773880",
   "metadata": {},
   "outputs": [],
   "source": []
  },
  {
   "cell_type": "markdown",
   "id": "93238121-45fe-42a4-9a94-1d67ba17f9fa",
   "metadata": {},
   "source": [
    "### Q8. You have a Pandas DataFrame df with columns 'A', 'B', and 'C'. Write a Python function that selects all rows where the value in column 'A' is greater than 5 and the value in column 'B' is less than 10. The function should return a new DataFrame that contains only the selected rows.\n",
    "\n",
    "For example, if df contains the following values:\n",
    "\n",
    "  A B C\n",
    " \n",
    "0 3 5 1\n",
    "\n",
    "1 8 2 7\n",
    "\n",
    "2 6 9 4\n",
    "\n",
    "3 2 3 5\n",
    "\n",
    "4 9 1 2\n",
    "\n",
    "Your function should select the following rows: A B C\n",
    "\n",
    "1 8 2 7\n",
    "\n",
    "4 9 1 2\n",
    "\n",
    "The function should return a new DataFrame that contains only the selected rows."
   ]
  },
  {
   "cell_type": "code",
   "execution_count": 16,
   "id": "df70b9da-16d3-44ad-9fed-e14da0601d8b",
   "metadata": {},
   "outputs": [],
   "source": [
    "def select_rows(df):\n",
    "    return df[(df['A'] > 5) & (df['B'] < 10)]"
   ]
  },
  {
   "cell_type": "code",
   "execution_count": 17,
   "id": "eeb6f9b7-d9b6-4118-8769-a94beb7e62bb",
   "metadata": {},
   "outputs": [
    {
     "name": "stdout",
     "output_type": "stream",
     "text": [
      "   A  B  C\n",
      "1  8  2  7\n",
      "2  6  9  4\n",
      "4  9  1  2\n"
     ]
    }
   ],
   "source": [
    "df = pd.DataFrame({'A': [3, 8, 6, 2, 9], 'B': [5, 2, 9, 3, 1], 'C': [1, 7, 4, 5, 2]})\n",
    "selected_df = select_rows(df)\n",
    "print(selected_df)"
   ]
  },
  {
   "cell_type": "markdown",
   "id": "2b8d6aa5-63e6-4464-9e06-311637174542",
   "metadata": {},
   "source": [
    "### Q10. Given a Pandas DataFrame df with a column 'Sales' and a column 'Date', write a Python function to create a new column 'MovingAverage' that contains the moving average of the sales for the past 7 days for each row in the DataFrame. The moving average should be calculated using a window of size 7 and should include the current day."
   ]
  },
  {
   "cell_type": "code",
   "execution_count": 15,
   "id": "46b2716c-49aa-4071-8591-c46797bec1bf",
   "metadata": {},
   "outputs": [],
   "source": []
  },
  {
   "cell_type": "markdown",
   "id": "2f27bfc0-d634-4283-8058-ed75c3f4029b",
   "metadata": {},
   "source": [
    "### Q11.You have a Pandas DataFrame df with a column 'Date'. Write a Python function that creates a new column 'Weekday' in the DataFrame. The 'Weekday' column should contain the weekday name (e.g.Monday, Tuesday) corresponding to each date in the 'Date' column.\n",
    "\n",
    "For example, if df contains the following values:\n",
    "\n",
    "Date\n",
    "\n",
    "0 2023-01-01\n",
    "\n",
    "1 2023-01-02\n",
    "\n",
    "2 2023-01-03\n",
    "\n",
    "3 2023-01-04\n",
    "\n",
    "4 2023-01-05\n",
    "\n",
    "Your function should create the following DataFrame:\n",
    "\n",
    "Date Weekday\n",
    "\n",
    "0 2023-01-01 Sunday\n",
    "\n",
    "1 2023-01-02 Monday\n",
    "\n",
    "2 2023-01-03 Tuesday\n",
    "\n",
    "3 2023-01-04 Wednesday\n",
    "\n",
    "4 2023-01-05 Thursday\n",
    "\n",
    "The function should return the modified DataFrame."
   ]
  },
  {
   "cell_type": "code",
   "execution_count": 13,
   "id": "651ddf42-c520-451d-a2bb-cdbe2bc59c15",
   "metadata": {},
   "outputs": [],
   "source": [
    "def add_weekday_column(df):\n",
    "    df['Date'] = pd.to_datetime(df['Date'])\n",
    "    df['Weekday'] = df['Date'].dt.strftime('%A')\n",
    "    return df"
   ]
  },
  {
   "cell_type": "code",
   "execution_count": 14,
   "id": "033ce13e-6333-4d55-b0fc-7575a8987a79",
   "metadata": {},
   "outputs": [
    {
     "name": "stdout",
     "output_type": "stream",
     "text": [
      "        Date    Weekday\n",
      "0 2023-01-01     Sunday\n",
      "1 2023-01-02     Monday\n",
      "2 2023-01-03    Tuesday\n",
      "3 2023-01-04  Wednesday\n",
      "4 2023-01-05   Thursday\n"
     ]
    }
   ],
   "source": [
    "my_df = pd.DataFrame({'Date': ['2023-01-01', '2023-01-02', '2023-01-03', '2023-01-04', '2023-01-05']})\n",
    "modified_df = add_weekday_column(my_df)\n",
    "print(modified_df)"
   ]
  },
  {
   "cell_type": "markdown",
   "id": "1d6a3d36-3a6b-4957-93cb-bf89bbc65f76",
   "metadata": {},
   "source": [
    "### Q12.Given a Pandas DataFrame df with a column 'Date' that contains timestamps, write a Python function to select all rows where the date is between '2023-01-01' and '2023-01-31'."
   ]
  },
  {
   "cell_type": "code",
   "execution_count": 12,
   "id": "7c00d807-4f13-49e2-b41d-6416fa1eb995",
   "metadata": {},
   "outputs": [],
   "source": [
    "def select_rows_between_dates(df):\n",
    "    start_date = '2023-01-01'\n",
    "    end_date = '2023-01-31'\n",
    "    mask = (df['Date'] >= start_date) & (df['Date'] <= end_date)\n",
    "    selected_rows = df.loc[mask]\n",
    "    return selected_rows"
   ]
  },
  {
   "cell_type": "markdown",
   "id": "4f7eddd6-c131-4340-934e-6c6d47624845",
   "metadata": {},
   "source": [
    "### Q13. To use the basic functions of pandas, what is the first and foremost necessary library that needs to be imported?"
   ]
  },
  {
   "cell_type": "markdown",
   "id": "72ba00f5-13ca-4d37-8ce4-5275b9dc500b",
   "metadata": {},
   "source": [
    "Ans: The first and foremost necessary library that needs to be imported to use the basic functions of pandas is pandas itself. "
   ]
  },
  {
   "cell_type": "code",
   "execution_count": null,
   "id": "769085b3-190d-447f-927e-784e04736fcc",
   "metadata": {},
   "outputs": [],
   "source": []
  }
 ],
 "metadata": {
  "kernelspec": {
   "display_name": "Python 3 (ipykernel)",
   "language": "python",
   "name": "python3"
  },
  "language_info": {
   "codemirror_mode": {
    "name": "ipython",
    "version": 3
   },
   "file_extension": ".py",
   "mimetype": "text/x-python",
   "name": "python",
   "nbconvert_exporter": "python",
   "pygments_lexer": "ipython3",
   "version": "3.10.8"
  }
 },
 "nbformat": 4,
 "nbformat_minor": 5
}
