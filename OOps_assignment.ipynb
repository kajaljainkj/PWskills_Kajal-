{
 "cells": [
  {
   "cell_type": "markdown",
   "id": "79616cf3-99fe-4a95-948c-c601e9af129d",
   "metadata": {},
   "source": [
    "Q1.Explain Class and Object with respect to Object-Oriented Programming. Give a suitable example.\n",
    "Ans:- Object-Oriented Programming (OOP) is a programming paradigm that revolves around the concept of objects. An object is an instance of a class, and a class is a blueprint or template for creating objects. In other words, a class defines the properties and behavior of a set of objects.\n",
    "\n",
    "In OOP, an object is an instance of a class that has a state (represented by attributes or properties) and behavior (represented by methods or functions). The state of an object is stored in its attributes, which are variables that hold the object's data. The behavior of an object is defined by its methods, which are functions that operate on the object's data.\n",
    "\n",
    "For example, let's say we want to model a car in our program using OOP. We can create a class called Car that defines the properties and behavior of a car object. The class may have attributes such as make, model, year, color, mileage, and methods such as start(), stop(), accelerate(), brake(), etc."
   ]
  },
  {
   "cell_type": "code",
   "execution_count": 1,
   "id": "ac100542-7b66-4c73-b7de-80a82917b3b1",
   "metadata": {},
   "outputs": [],
   "source": [
    "class Car:\n",
    "    def __init__(self, make, model, year, color, mileage):\n",
    "        self.make = make\n",
    "        self.model = model\n",
    "        self.year = year\n",
    "        self.color = color\n",
    "        self.mileage = mileage\n",
    "    \n",
    "    def start(self):\n",
    "        print(\"Starting the engine...\")\n",
    "    \n",
    "    def stop(self):\n",
    "        print(\"Stopping the engine...\")\n",
    "    \n",
    "    def accelerate(self, speed):\n",
    "        print(\"Accelerating to {} mph...\".format(speed))\n",
    "    \n",
    "    def brake(self):\n",
    "        print(\"Applying the brakes...\")\n",
    "\n",
    "my_car = Car(\"Ford\", \"Mustang\", 2022, \"Red\", 0)\n",
    "\n"
   ]
  },
  {
   "cell_type": "code",
   "execution_count": 2,
   "id": "d43ffcae-0c24-4dda-a5a1-24c556f81847",
   "metadata": {},
   "outputs": [
    {
     "name": "stdout",
     "output_type": "stream",
     "text": [
      "Starting the engine...\n",
      "Accelerating to 70 mph...\n",
      "Applying the brakes...\n",
      "Stopping the engine...\n"
     ]
    }
   ],
   "source": [
    "my_car.start()\n",
    "my_car.accelerate(70)\n",
    "my_car.brake()\n",
    "my_car.stop()"
   ]
  },
  {
   "cell_type": "markdown",
   "id": "2ae01755-93f5-401e-b0b9-b0dbbf6dc1ca",
   "metadata": {},
   "source": [
    "Q2. Name the four pillars of OOPs.\n",
    "\n",
    "Ans:-The four pillars of object-oriented programming are:\n",
    "\n",
    "1.Encapsulation: This refers to the concept of bundling data and methods that work on that data within one unit, and restricting access to the data from outside the unit. Encapsulation provides data abstraction, data hiding, and reduces the complexity of the code.\n",
    "\n",
    "2.Inheritance: This allows creating a new class (derived class) from an existing class (base or parent class), inheriting its properties and behavior. Inheritance promotes code reusability and allows developers to create new classes based on existing classes without having to write everything from scratch.\n",
    "\n",
    "3.Polymorphism: This is the ability of objects of different classes to be used in a similar way. Polymorphism can be achieved through method overriding and method overloading.\n",
    "\n",
    "4.Abstraction: This refers to the process of hiding complex implementation details and exposing only essential features to the user. Abstraction provides a clear separation between the interface and the implementation, making the code more manageable and maintainable."
   ]
  },
  {
   "cell_type": "markdown",
   "id": "9cb26a8b-a492-4010-889b-f2766436d358",
   "metadata": {},
   "source": [
    "Q3.Explain why the __init__() function is used. Give a suitable example.\n",
    "\n",
    "Ans: __init__() function is a special method that is automatically called when an object is created from a class. It is used to initialize the attributes of an object, which are the variables that store data within the object. The __init__() method can take parameters as input, which can be used to set the initial values of the object's attributes.\n",
    "\n",
    "The __init__() method is important because it ensures that an object is properly initialized and ready to use as soon as it is created. Without this method, the object would be created with uninitialized attributes, which could lead to unexpected behavior or errors when trying to use the object."
   ]
  },
  {
   "cell_type": "code",
   "execution_count": 3,
   "id": "bd9b65f4-9e19-40c2-9f9e-fe37cad1b3dd",
   "metadata": {},
   "outputs": [
    {
     "name": "stdout",
     "output_type": "stream",
     "text": [
      "The blue 2020 Toyota Camry is driving.\n"
     ]
    }
   ],
   "source": [
    "class Car:\n",
    "    def __init__(self, make, model, year, color):\n",
    "        self.make = make\n",
    "        self.model = model\n",
    "        self.year = year\n",
    "        self.color = color\n",
    "        \n",
    "    def drive(self):\n",
    "        print(f\"The {self.color} {self.year} {self.make} {self.model} is driving.\")\n",
    "        \n",
    "my_car = Car(\"Toyota\", \"Camry\", 2020, \"blue\")\n",
    "my_car.drive()\n"
   ]
  },
  {
   "cell_type": "markdown",
   "id": "b24b24c2-8e1d-4c57-955d-35714acccc60",
   "metadata": {},
   "source": [
    "Q4. Why self is used in OOPs?\n",
    "\n",
    "Ans:- In object-oriented programming (OOP), the self keyword is used to refer to the instance of a class. It is a way for an instance of a class to refer to itself, and to access its own attributes and methods.\n",
    "\n",
    "When you define a method within a class, you need to pass self as the first parameter to the method. This tells Python that the method is associated with the instance of the class, and not with the class itself. When you call the method on an instance of the class, Python automatically passes the instance as the self parameter to the method."
   ]
  },
  {
   "cell_type": "code",
   "execution_count": 5,
   "id": "665722d7-d327-47d3-8ea3-5ca33a88a5a2",
   "metadata": {},
   "outputs": [
    {
     "name": "stdout",
     "output_type": "stream",
     "text": [
      "Hello, my name is Kajal and I am 21 years old.\n"
     ]
    }
   ],
   "source": [
    "### For example\n",
    "\n",
    "class Person:\n",
    "    def __init__(self, name, age):\n",
    "        self.name = name\n",
    "        self.age = age\n",
    "        \n",
    "    def say_hello(self):\n",
    "        print(f\"Hello, my name is {self.name} and I am {self.age} years old.\")\n",
    "        \n",
    "        \n",
    "person1 = Person(\"Kajal\", 21)\n",
    "person1.say_hello()  \n"
   ]
  },
  {
   "cell_type": "markdown",
   "id": "94d68621-782e-4a05-b58b-6f3c5bbcef7b",
   "metadata": {},
   "source": [
    "Q5.What is inheritance? Give an example for each type of inheritance.\n",
    "\n",
    "Ans:- Inheritance is a fundamental concept in object-oriented programming (OOP) that allows one class to inherit properties and methods from another class. The class that is inherited from is called the parent class or base class, and the class that inherits is called the child class or derived class\n",
    "\n",
    "There are four types of inheritance in Python:\n",
    "\n",
    "1.Single inheritance: A child class inherits properties and methods from a single parent class."
   ]
  },
  {
   "cell_type": "code",
   "execution_count": 11,
   "id": "f1c8cafc-9f32-4fca-915f-55e8d16851f1",
   "metadata": {},
   "outputs": [],
   "source": [
    "## example of single inheritance\n",
    "class Animal:\n",
    "    def eat(self):\n",
    "        print(\"The animal is eating.\")\n",
    "\n",
    "class Dog(Animal):\n",
    "    def bark(self):\n",
    "        print(\"The dog is barking.\")"
   ]
  },
  {
   "cell_type": "markdown",
   "id": "22c62704-e454-4497-b4c7-05b027b41c1b",
   "metadata": {},
   "source": [
    "2.Multiple inheritance: A child class inherits properties and methods from multiple parent classes."
   ]
  },
  {
   "cell_type": "code",
   "execution_count": 12,
   "id": "43586911-4490-4e7f-b60d-9e022adb7d4f",
   "metadata": {},
   "outputs": [],
   "source": [
    "## example\n",
    "class A:\n",
    "    def method(self):\n",
    "        print(\"Method A\")\n",
    "\n",
    "class B:\n",
    "    def method(self):\n",
    "        print(\"Method B\")\n",
    "\n",
    "class C(A, B):\n",
    "    pass\n"
   ]
  },
  {
   "cell_type": "markdown",
   "id": "862dc4e8-6406-44ae-be6a-0b00f7962213",
   "metadata": {},
   "source": [
    "3.Multilevel inheritance: A child class inherits properties and methods from a parent class, which itself inherits from another parent class."
   ]
  },
  {
   "cell_type": "code",
   "execution_count": 13,
   "id": "245409f5-44f5-47db-a479-f7e2dc194eff",
   "metadata": {},
   "outputs": [],
   "source": [
    "## example\n",
    "class Animal:\n",
    "    def eat(self):\n",
    "        print(\"The animal is eating.\")\n",
    "\n",
    "class Dog(Animal):\n",
    "    def bark(self):\n",
    "        print(\"The dog is barking.\")\n",
    "\n",
    "class Poodle(Dog):\n",
    "    def dance(self):\n",
    "        print(\"The poodle is dancing.\")\n"
   ]
  },
  {
   "cell_type": "markdown",
   "id": "cbf0087a-4f1a-4993-849c-1cd8a5cb7460",
   "metadata": {},
   "source": [
    "4.Hierarchical inheritance: Multiple child classes inherit properties and methods from a single parent class"
   ]
  },
  {
   "cell_type": "code",
   "execution_count": 14,
   "id": "af8e432c-4188-4dc8-9dc9-911205bd6c51",
   "metadata": {},
   "outputs": [],
   "source": [
    "## example\n",
    "class Animal:\n",
    "    def eat(self):\n",
    "        print(\"The animal is eating.\")\n",
    "\n",
    "class Dog(Animal):\n",
    "    def bark(self):\n",
    "        print(\"The dog is barking.\")\n",
    "\n",
    "class Cat(Animal):\n",
    "    def meow(self):\n",
    "        print(\"The cat is meowing.\")\n"
   ]
  },
  {
   "cell_type": "code",
   "execution_count": null,
   "id": "de530335-4d1a-4b5f-812f-4cf17df7618b",
   "metadata": {},
   "outputs": [],
   "source": []
  }
 ],
 "metadata": {
  "kernelspec": {
   "display_name": "Python 3 (ipykernel)",
   "language": "python",
   "name": "python3"
  },
  "language_info": {
   "codemirror_mode": {
    "name": "ipython",
    "version": 3
   },
   "file_extension": ".py",
   "mimetype": "text/x-python",
   "name": "python",
   "nbconvert_exporter": "python",
   "pygments_lexer": "ipython3",
   "version": "3.10.8"
  }
 },
 "nbformat": 4,
 "nbformat_minor": 5
}
